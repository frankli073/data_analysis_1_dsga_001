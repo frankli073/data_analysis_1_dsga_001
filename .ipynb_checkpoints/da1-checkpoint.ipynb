{
 "cells": [
  {
   "cell_type": "code",
   "execution_count": 2,
   "id": "bced2675-0658-474e-a154-c2ff2d540213",
   "metadata": {},
   "outputs": [],
   "source": [
    "import pandas as pd\n",
    "import numpy as np\n",
    "import matplotlib.pyplot as plt\n",
    "import sqlite3\n",
    "import random\n",
    "from scipy.stats import bootstrap, permutation_test\n",
    "import seaborn as sns\n",
    "from scipy import stats\n",
    "sns.set()"
   ]
  },
  {
   "cell_type": "code",
   "execution_count": 120,
   "id": "cb9567a9-2f2c-491d-a6ba-c0e88054c0a8",
   "metadata": {},
   "outputs": [],
   "source": [
    "path = '/Users/liqingyang/Documents/GitHub/data_analysis_1_dsga_001/movieReplicationSet.csv'\n",
    "# Significance level at 0.005 as specified\n",
    "alpha = 0.005\n",
    "\n",
    "all_docs = pd.read_csv(path)\n",
    "movies_ratings = all_docs.iloc[:, :400]\n",
    "sensation_seeking = all_docs.iloc[:, 400:421]\n",
    "personality = all_docs.iloc[:,421:464]\n",
    "movies_experience_ratings = all_docs.iloc[:,464:474]\n",
    "gender = all_docs.iloc[:,474]\n",
    "only_child = all_docs.iloc[:,475]\n",
    "alone = all_docs.iloc[:,476]"
   ]
  },
  {
   "cell_type": "markdown",
   "id": "0164be7f-6349-4c13-bb9a-0477ae7a08bb",
   "metadata": {},
   "source": [
    "## Content\n",
    "- [1. Are movies that are more popular (operationalized as having more ratings) rated higher than movies that are less popular?](#1)\n",
    "- [2. Are movies that are newer rated differently than movies that are older?](#2)\n",
    "- [3. Is enjoyment of ‘Shrek (2001)’ gendered, i.e. do male and female viewers rate it differently?](#3)\n",
    "- [4. What proportion of movies are rated differently by male and female viewers?](#4)\n",
    "- [5. Do people who are only children enjoy ‘The Lion King (1994)’ more than people with siblings?](#5)\n",
    "- [6. What proportion of movies exhibit an “only child effect”, i.e. are rated different by viewers with siblings vs. those without?](#6)\n",
    "- [7. Do people who like to watch movies socially enjoy ‘The Wolf of Wall Street (2013)’ more than those who prefer to watch them alone?](#7)\n",
    "- [8. What proportion of movies exhibit such a “social watching” effect?](#8)\n",
    "- [9. Is the ratings distribution of ‘Home Alone (1990)’ different than that of ‘Finding Nemo (2003)’?](#9)\n",
    "- [10. There are ratings on movies from several franchises (\\[‘Star Wars’, ‘Harry Potter’, ‘The Matrix’, ‘Indiana Jones’, ‘Jurassic Park’, ‘Pirates of the Caribbean’, ‘Toy Story’, ‘Batman’\\]) in this dataset. How many of these are of inconsistent quality, as experienced by viewers?](#10)\n",
    "- [Extra](#11)"
   ]
  },
  {
   "cell_type": "markdown",
   "id": "67edf06d-25d8-463a-bbbd-ae9ba6596f03",
   "metadata": {},
   "source": [
    "The choice between the permutation test, bootstrap, and Mann-Whitney U test often depends on the nature of the data, the specific question at hand, and the assumptions you're willing or able to make. Let's examine when each might be preferred for the movie ratings problem:\n",
    "\n",
    "### Permutation Test:\n",
    "\n",
    "#### Preferred when:\n",
    "- You want to test the hypothesis based directly on the observed data without making assumptions about the underlying distributions or population parameters.\n",
    "- You believe that the data under the null hypothesis is exchangeable between groups.\n",
    "- You're interested in the exact significance and not making an asymptotic approximation.\n",
    "\n",
    "#### Advantage: \n",
    "- It directly tests the null hypothesis of no difference between groups by assessing how often random shuffles produce an effect of the observed size or more extreme.\n",
    "- Application for movie ratings: Use this if you want to directly test the likelihood of observing the given difference in median ratings between popular and less popular movies under the assumption that their ratings are drawn from the same distribution.\n",
    "\n",
    "### Bootstrap:\n",
    "\n",
    "#### Preferred when:\n",
    "- You want to estimate the distribution of a statistic (like the median) and derive confidence intervals.\n",
    "- You're more concerned with estimating an effect size or parameter and its uncertainty than testing a specific hypothesis.\n",
    "\n",
    "#### Advantage: \n",
    "- It allows estimation of the sampling distribution of a statistic (e.g., median) without making strong parametric assumptions.\n",
    "- Application for movie ratings: Use this if you're interested in creating confidence intervals for the median ratings of the two movie groups and comparing them.\n",
    "\n",
    "### Mann-Whitney U Test:\n",
    "\n",
    "#### Preferred when:\n",
    "You're comparing the distributions of two independent groups and are interested in the ranks of the data.\n",
    "The data is ordinal or continuous but not normally distributed.\n",
    "You want a non-parametric test that has established statistical properties and is widely recognized.\n",
    "\n",
    "#### Advantage:\n",
    "- It's a non-parametric test that checks if one group tends to have larger values than the other, without assuming a specific shape for the distributions.\n",
    "\n",
    "#### Application for movie ratings: \n",
    "- Use this if you want a straightforward test to compare whether one group (e.g., popular movies) typically receives higher ratings than the other.\n",
    "\n",
    "Conclusion for the Movie Ratings Problem:\n",
    "- If you want a direct hypothesis test without assumptions about the shape of the distributions, a permutation test might be your best choice.\n",
    "- If you're interested in deriving confidence intervals for the medians and comparing them, bootstrap would be apt.\n",
    "- If you're looking for a well-established non-parametric test that checks for differences in the distributions of the two groups based on ranks, then the Mann-Whitney U test would be suitable.\n",
    "In practice, it can also be valuable to employ multiple methods and check for consistency in the results. If all methods point to the same conclusion, you can be more confident in your findings."
   ]
  },
  {
   "cell_type": "markdown",
   "id": "a791c68e-6b64-4f7d-a6b5-fd1a9e19d992",
   "metadata": {},
   "source": [
    "### 1. Are movies that are more popular (operationalized as having more ratings) rated higher than movies that are less popular? \\[Hint: You can do a median-split of popularity to determine high vs. low popularity movies] <a id='1'></a>"
   ]
  },
  {
   "cell_type": "code",
   "execution_count": 18,
   "id": "f3f6f4ef-c1e1-43cc-b972-0db5e566ce35",
   "metadata": {},
   "outputs": [],
   "source": [
    "# We will get the median by first getting the number of votes for each movie and then we get the median of these numbers\n",
    "median_split = movies_ratings.notna().sum().median()\n",
    "\n",
    "# Get a list of the movies that is less popular based on the median_split\n",
    "all_movies_pop_index = movies_ratings.notna().sum().reset_index()\n",
    "all_movies = all_movies_pop_index['index'].to_list()\n",
    "less_popular = all_movies_pop_index[all_movies_pop_index[0] < median_split]['index']\n",
    "more_popular = all_movies_pop_index[all_movies_pop_index[0] >= median_split]['index']\n",
    "mean_ratings_for_all_movies = movies_ratings.mean().reset_index().rename({'index': 'names', 0:'rating'}, axis=1)\n",
    "\n",
    "l_p_list = less_popular.to_list()\n",
    "m_p_list = more_popular.to_list()\n"
   ]
  },
  {
   "cell_type": "markdown",
   "id": "4627e033-9edb-4368-a18f-a2f5f8b8281a",
   "metadata": {},
   "source": [
    "### Solution: One Tailed Man-Whitney U\n",
    "\n",
    "### Reasons\n",
    "- Movie ratings discrete\n",
    "- Don't need to assume distribution\n",
    "\n",
    "In a one-tailed test using the mannwhitneyu function from scipy.stats, the null hypothesis posits that values in the first group are less than or equal to the values in the second group. Therefore:\n",
    "- If you hypothesize that more popular movies have higher ratings, then the array for more popular movies should be the first group."
   ]
  },
  {
   "cell_type": "code",
   "execution_count": 42,
   "id": "c0d88a0f-1e4f-431c-b78f-6b2a190ae1db",
   "metadata": {},
   "outputs": [],
   "source": [
    "# Separate the movies based on popularity and return an array with the mean ratings for each movie\n",
    "lp = movies_ratings.loc[:, l_p_list].mean().to_numpy()\n",
    "mp = movies_ratings.loc[:, m_p_list].mean().to_numpy()\n",
    "\n",
    "# MWU test\n",
    "u,p = stats.mannwhitneyu(mp, lp, alternative='greater')"
   ]
  },
  {
   "cell_type": "code",
   "execution_count": 43,
   "id": "2acbaa88-6c48-44d7-80cd-be76458490bf",
   "metadata": {},
   "outputs": [
    {
     "data": {
      "text/plain": [
       "8.485716560078964e-41"
      ]
     },
     "execution_count": 43,
     "metadata": {},
     "output_type": "execute_result"
    }
   ],
   "source": [
    "p"
   ]
  },
  {
   "cell_type": "markdown",
   "id": "23e74553-e75a-4ac6-b0e3-210f0ff36a0c",
   "metadata": {},
   "source": [
    "### Smaller than 0.005\n",
    "\n",
    "# DIFFERENT"
   ]
  },
  {
   "cell_type": "markdown",
   "id": "d0abf267-f742-4034-9cce-81ab3c72538f",
   "metadata": {},
   "source": [
    " "
   ]
  },
  {
   "cell_type": "markdown",
   "id": "c3b6fc34-b64d-4d37-b03d-d35e0d42a01a",
   "metadata": {},
   "source": [
    "### Alternative Solution: Independent T-test\n",
    "- We prefer to use non-parametric, due to the fact movies rating is a discrete data rather than continuous data\n",
    "- Since we are trying to see if popular groups have higher ratings rather than if they are differnt, we are doing a one-tail t-test.\n",
    "\n",
    "1. Get the two lists of movies based on popularity (use median of the list of toal number of ratings received for each movie) and get the mean ratings for each movie.\n",
    "2. Compute the difference between the two mean ratings based on popularity and set it as our test statistic.\n",
    "3. Use independent t-test to get the t and p values"
   ]
  },
  {
   "cell_type": "code",
   "execution_count": 142,
   "id": "4bac27aa-f297-4413-a609-114d7111a2f3",
   "metadata": {},
   "outputs": [],
   "source": [
    "l_popular = movies_ratings.loc[:, l_p_list].mean().mean()\n",
    "m_popular = movies_ratings.loc[:, m_p_list].mean().mean()\n",
    "test_stat = m_popular-l_popular"
   ]
  },
  {
   "cell_type": "code",
   "execution_count": 143,
   "id": "7b1c7c63-65db-49b0-ba45-825e0680af76",
   "metadata": {},
   "outputs": [],
   "source": [
    "# Separate the movies based on popularity and return an array with the mean ratings for each movie\n",
    "lp = movies_ratings.loc[:, l_p_list].mean().to_numpy()\n",
    "mp = movies_ratings.loc[:, m_p_list].mean().to_numpy()\n",
    "\n",
    "# Individual t-test\n",
    "t,p = stats.ttest_ind(mp, lp)"
   ]
  },
  {
   "cell_type": "code",
   "execution_count": 144,
   "id": "cf1bd990-4c72-4d83-a091-7a5cb44f1502",
   "metadata": {},
   "outputs": [
    {
     "data": {
      "text/plain": [
       "17.7560492698737"
      ]
     },
     "execution_count": 144,
     "metadata": {},
     "output_type": "execute_result"
    }
   ],
   "source": [
    "t"
   ]
  },
  {
   "cell_type": "code",
   "execution_count": 145,
   "id": "483a05c0-0ac0-489d-afd4-81dbb5fab272",
   "metadata": {},
   "outputs": [
    {
     "data": {
      "text/plain": [
       "2.2696530276564846e-52"
      ]
     },
     "execution_count": 145,
     "metadata": {},
     "output_type": "execute_result"
    }
   ],
   "source": [
    "p"
   ]
  },
  {
   "cell_type": "code",
   "execution_count": 47,
   "id": "627d0423-6bd9-42f4-aeac-d98a89a0e54c",
   "metadata": {},
   "outputs": [
    {
     "data": {
      "image/png": "[encoded data removed]",
      "text/plain": [
       "<Figure size 640x480 with 1 Axes>"
      ]
     },
     "metadata": {},
     "output_type": "display_data"
    }
   ],
   "source": [
    "# Plotting the two means\n",
    "\n",
    "labels = ['Less Popular', 'More Popular']\n",
    "means = [np.mean(lp), np.mean(mp)]\n",
    "colors = ['blue' if p < 0.005 else 'red' for _ in labels]\n",
    "\n",
    "plt.bar(labels, means, color=colors)\n",
    "plt.ylabel('Mean Value')\n",
    "plt.title('Comparison of Means with t-test p-value')\n",
    "plt.annotate(f'p-value = {p:.3e}', \n",
    "             xy=(0.5, max(means) * 0.8), \n",
    "             ha='center',\n",
    "             color='red' if p < 0.005 else 'black')\n",
    "\n",
    "plt.show()"
   ]
  },
  {
   "cell_type": "code",
   "execution_count": 48,
   "id": "ece2166d-4715-4f38-b2c0-cb211caecb29",
   "metadata": {},
   "outputs": [
    {
     "data": {
      "image/png": "[encoded data removed]",
      "text/plain": [
       "<Figure size 1000x600 with 1 Axes>"
      ]
     },
     "metadata": {},
     "output_type": "display_data"
    }
   ],
   "source": [
    "# Define t-distribution range and PDF\n",
    "df = len(lp) + len(mp) - 2  \n",
    "x = np.linspace(-4, 4, 1000)\n",
    "y = stats.t.pdf(x, df)\n",
    "\n",
    "# Plot t-distribution\n",
    "plt.figure(figsize=(10, 6))\n",
    "plt.plot(x, y, label=f'T-Distribution (df={df})')\n",
    "\n",
    "# Highlight area for p-value and t-statistic\n",
    "x_fill_left = np.linspace(-4, -abs(t), 1000)\n",
    "x_fill_right = np.linspace(abs(t), 4, 1000)\n",
    "plt.fill_between(x_fill_left, stats.t.pdf(x_fill_left, df), color='red', alpha=0.5, label='p-value/2 area')\n",
    "plt.fill_between(x_fill_right, stats.t.pdf(x_fill_right, df), color='red', alpha=0.5)\n",
    "\n",
    "# Add t-statistic as vertical dotted line\n",
    "plt.axvline(-t, color='green', linestyle='--', label=f'T-Statistic {t:.2f}')\n",
    "\n",
    "plt.annotate(f'p-value = {p:.3e}', \n",
    "             xy=(0.6, 0.4), \n",
    "             xycoords='axes fraction', \n",
    "             fontsize=10, \n",
    "             color='red')\n",
    "\n",
    "plt.xlabel('Value')\n",
    "plt.ylabel('Probability Density')\n",
    "plt.title('T-Distribution with T-Statistic and P-value')\n",
    "plt.legend()\n",
    "plt.grid(True)\n",
    "\n",
    "plt.show()"
   ]
  },
  {
   "cell_type": "markdown",
   "id": "c287ffe4-9795-4c4e-acd9-069292f1fa70",
   "metadata": {},
   "source": [
    "### Answer: it is different, "
   ]
  },
  {
   "cell_type": "markdown",
   "id": "3cb5fece-7308-4d33-bffb-660b6d93dde9",
   "metadata": {},
   "source": [
    "### 2) Are movies that are newer rated differently than movies that are older? [Hint: Do a median split of year of release to contrast movies in terms of whether they are old or new] <a id='2'></a>"
   ]
  },
  {
   "cell_type": "markdown",
   "id": "6d4aa5d4-9a8b-4860-9abd-36d878a32c82",
   "metadata": {},
   "source": [
    "### Solution: Two Tailed Mann Whitney U Test\n",
    "- Given we are using the same movie ratings data, we will use Mann Whitney U due to following reasons:\n"
   ]
  },
  {
   "cell_type": "code",
   "execution_count": 53,
   "id": "75bd4429-2c21-42d9-890c-207d0ca255f3",
   "metadata": {},
   "outputs": [],
   "source": [
    "# We first select the years from the columns, which are the names of the movies\n",
    "release_years = np.array([int(i[-5:-1]) for i in all_movies])\n",
    "# median_release_year = np.median(release_years)\n",
    "\n",
    "# Store all release years and movies as a dataframe and separate them by half after sorted by years\n",
    "release_year_df = pd.DataFrame({\"names\":all_movies, \"year\":release_years})\n",
    "release_year_df.sort_values('year', inplace=True)\n",
    "\n",
    "# The first 200 movies are the earliest \n",
    "old = release_year_df.iloc[:200, :].names.to_list()\n",
    "new = release_year_df.iloc[200:, :].names.to_list()\n",
    "\n",
    "old_movies_mean_ratings = movies_ratings.loc[:, old].mean()\n",
    "new_movies_mean_ratings = movies_ratings.loc[:, new].mean()\n",
    "test_stat = new_movies_mean_ratings.mean() - old_movies_mean_ratings.mean()"
   ]
  },
  {
   "cell_type": "code",
   "execution_count": 55,
   "id": "da577766-321c-4d83-b956-21070ef4d7f4",
   "metadata": {
    "scrolled": true
   },
   "outputs": [],
   "source": [
    "old = old_movies_mean_ratings.to_numpy()\n",
    "new = new_movies_mean_ratings.to_numpy()\n",
    "\n",
    "u,p = stats.mannwhitneyu(old, new, alternative='two-sided')"
   ]
  },
  {
   "cell_type": "code",
   "execution_count": 56,
   "id": "11e0e45b-439d-4913-a631-d96a388b4894",
   "metadata": {},
   "outputs": [
    {
     "data": {
      "text/plain": [
       "0.08662860714739655"
      ]
     },
     "execution_count": 56,
     "metadata": {},
     "output_type": "execute_result"
    }
   ],
   "source": [
    "p"
   ]
  },
  {
   "cell_type": "markdown",
   "id": "3847aff4-4b09-4025-85e2-314e2788753b",
   "metadata": {},
   "source": [
    "### Not significant enough to reject null hypothesis."
   ]
  },
  {
   "cell_type": "markdown",
   "id": "3fe85465-fdd1-4da2-abf5-d76b509643ba",
   "metadata": {},
   "source": [
    "### Alternative Solution: Permutation\n",
    "1. Get the two lists of movies based on released year (use median of the list of all release years for all movies) and get the mean ratings for each movie.\n",
    "2. Compute the difference between the two mean ratings based on the threshold for release year and set it as our test statistic.\n",
    "3. Use permutation test"
   ]
  },
  {
   "cell_type": "code",
   "execution_count": 50,
   "id": "13fd4ba5-e928-4979-9ff0-2c86c1b6bf2e",
   "metadata": {},
   "outputs": [],
   "source": [
    "num_reps = int(1e4) # same number as before\n",
    "sample_n = 200\n",
    "\n",
    "\n",
    "rng = np.random.default_rng(69420)\n",
    "shuffled_stats = []\n",
    "for i in range(num_reps): # loop thru each\n",
    "    shuffled_indices = rng.permutation(sample_n * 2) # randomly shuffle n2\n",
    "    \n",
    "    shuffled_group_1 = [all_movies[i] for i in shuffled_indices[:sample_n]]\n",
    "    shuffled_group_2 = [all_movies[i] for i in shuffled_indices[sample_n:]]\n",
    "    \n",
    "    old = movies_ratings.loc[:, shuffled_group_1].mean()\n",
    "    new = movies_ratings.loc[:, shuffled_group_2].mean()\n",
    "    \n",
    "    shuffled_stats.append(np.mean(new) - np.mean(old))"
   ]
  },
  {
   "cell_type": "code",
   "execution_count": 52,
   "id": "7c41201e-9983-4de2-b189-6356eefd2ab3",
   "metadata": {},
   "outputs": [
    {
     "data": {
      "image/png": "[encoded data removed]",
      "text/plain": [
       "<Figure size 1000x600 with 1 Axes>"
      ]
     },
     "metadata": {},
     "output_type": "display_data"
    }
   ],
   "source": [
    "plt.figure(figsize=(10,6))\n",
    "plt.hist(shuffled_stats, bins=50, density=True, color='lightgrey', label='null distribution')\n",
    "plt.vlines(test_stat, 0, 12, color='orange', ls='--', label='test_stat')\n",
    "plt.title('Null distribution vs. empirical value of our test statistic')\n",
    "plt.legend()\n",
    "plt.show()"
   ]
  },
  {
   "cell_type": "code",
   "execution_count": 31,
   "id": "a1419c52-a839-4207-95f3-7a117f7b5259",
   "metadata": {},
   "outputs": [
    {
     "name": "stdout",
     "output_type": "stream",
     "text": [
      "p-val: 0.0477\n"
     ]
    }
   ],
   "source": [
    "p_val = len(np.argwhere(shuffled_stats>=test_stat))/num_reps\n",
    "print('p-val:', p_val)"
   ]
  },
  {
   "cell_type": "code",
   "execution_count": 32,
   "id": "2cb3a832-4a35-4537-ae4d-bfeb991057f5",
   "metadata": {},
   "outputs": [
    {
     "name": "stdout",
     "output_type": "stream",
     "text": [
      "Test stat: 0.05954464365175305\n",
      "P-val: 0.09499050094990501\n"
     ]
    }
   ],
   "source": [
    "def test_stat_func(x,y):\n",
    "    return np.mean(x) - np.mean(y)\n",
    "old_np = old_movies_mean_ratings.to_numpy()\n",
    "new_np = new_movies_mean_ratings.to_numpy()\n",
    "\n",
    "test_data = (new_np, old_np)\n",
    "p_test = permutation_test(test_data, test_stat_func, n_resamples=int(1e4), random_state=69420)    \n",
    "print('Test stat:', p_test.statistic)\n",
    "print('P-val:',p_test.pvalue)\n",
    "\n",
    "# at home: change the number of repeats and note the stability of the results and how they \n",
    "# change as a function of the number of repeats.\n",
    "# by default, this is two-tailed."
   ]
  },
  {
   "cell_type": "code",
   "execution_count": 57,
   "id": "28978e79-91d5-43ed-917c-3c8ccbd0d16c",
   "metadata": {},
   "outputs": [
    {
     "name": "stdout",
     "output_type": "stream",
     "text": [
      "p-val: 0.0477\n"
     ]
    }
   ],
   "source": [
    "p_val = len(np.argwhere(shuffled_stats>=test_stat))/num_reps\n",
    "print('p-val:', p_val)"
   ]
  },
  {
   "cell_type": "markdown",
   "id": "1f348441-688e-40b4-b718-e02f014102c4",
   "metadata": {},
   "source": [
    "### 3. Is enjoyment of ‘Shrek (2001)’ gendered, i.e. do male and female viewers rate it differently? <a id='3'></a>"
   ]
  },
  {
   "cell_type": "markdown",
   "id": "f69c958c-b819-4cbe-94eb-9a6b89c19d66",
   "metadata": {},
   "source": [
    "### Solution: Kruskal ###### Test\n",
    "- Given that we have three groups, we will not use Mann-Whitney U Test\n",
    "- sdfsdfs\n",
    "- sdf"
   ]
  },
  {
   "cell_type": "code",
   "execution_count": 71,
   "id": "cfb14efd-cba7-4063-9df3-746c6604288a",
   "metadata": {},
   "outputs": [
    {
     "data": {
      "text/plain": [
       "['Shrek 2 (2004)', 'Shrek (2001)']"
      ]
     },
     "execution_count": 71,
     "metadata": {},
     "output_type": "execute_result"
    }
   ],
   "source": [
    "[i for i in all_movies if i.startswith('Shrek')]"
   ]
  },
  {
   "cell_type": "code",
   "execution_count": 91,
   "id": "94c68270-b92d-4230-aaf6-90e3ae88c4f4",
   "metadata": {},
   "outputs": [],
   "source": [
    "shrek = pd.concat([gender, movies_ratings.loc[:, 'Shrek (2001)']], axis=1)\n",
    "shrek = shrek[shrek.iloc[:,-1].notna()]\n",
    "shrek_female = shrek[shrek.iloc[:,0] == 1].iloc[:,1].to_numpy()\n",
    "shrek_male = shrek[shrek.iloc[:,0] == 2].iloc[:,1].to_numpy()\n",
    "shrek_sd = shrek[shrek.iloc[:,0] == 3].iloc[:,1].to_numpy()"
   ]
  },
  {
   "cell_type": "code",
   "execution_count": 93,
   "id": "a2d19e9b-8add-4e26-a388-bcf3a10e2718",
   "metadata": {},
   "outputs": [
    {
     "data": {
      "text/plain": [
       "0.1457893435589556"
      ]
     },
     "execution_count": 93,
     "metadata": {},
     "output_type": "execute_result"
    }
   ],
   "source": [
    "h,p_kw = stats.kruskal(shrek_female,shrek_male, shrek_sd)\n",
    "p_kw"
   ]
  },
  {
   "cell_type": "code",
   "execution_count": 100,
   "id": "9c7ba8aa-dcee-4e16-9ea2-4349b7fd0132",
   "metadata": {},
   "outputs": [
    {
     "data": {
      "image/png": "[encoded data removed]",
      "text/plain": [
       "<Figure size 640x480 with 1 Axes>"
      ]
     },
     "metadata": {},
     "output_type": "display_data"
    }
   ],
   "source": [
    "me_fem = np.median(shrek_female)\n",
    "me_mal = np.median(shrek_male)\n",
    "me_sd = np.median(shrek_sd)\n",
    "\n",
    "# Plotting the two means\n",
    "\n",
    "labels = ['Females', 'Males', 'Self Described']\n",
    "medians = [me_fem, me_mal, me_sd]\n",
    "\n",
    "plt.bar(labels, medians)\n",
    "plt.ylabel('Mean Value')\n",
    "plt.title('Comparison of Medians')\n",
    "\n",
    "plt.show()"
   ]
  },
  {
   "cell_type": "markdown",
   "id": "c310808f-066f-4981-a771-03c731b80d4f",
   "metadata": {},
   "source": [
    "### Alternative Solution: One Way Anova\n",
    "- We still prefer Kruskal given the nature of ratings data"
   ]
  },
  {
   "cell_type": "code",
   "execution_count": 94,
   "id": "83a681ee-2dd9-4cf1-a6a6-4160534b926b",
   "metadata": {},
   "outputs": [
    {
     "data": {
      "text/plain": [
       "0.5187529859337405"
      ]
     },
     "execution_count": 94,
     "metadata": {},
     "output_type": "execute_result"
    }
   ],
   "source": [
    "f,p_anova = stats.f_oneway(shrek_female,shrek_male, shrek_sd)\n",
    "p_anova"
   ]
  },
  {
   "cell_type": "code",
   "execution_count": 101,
   "id": "4328796f-39a9-4193-a349-84d7ab268e1b",
   "metadata": {},
   "outputs": [
    {
     "data": {
      "image/png": "[encoded data removed]",
      "text/plain": [
       "<Figure size 640x480 with 1 Axes>"
      ]
     },
     "metadata": {},
     "output_type": "display_data"
    }
   ],
   "source": [
    "m_fem = shrek_female.mean()\n",
    "m_mal = shrek_male.mean()\n",
    "m_sd = shrek_sd.mean()\n",
    "\n",
    "# Plotting the two means\n",
    "\n",
    "labels = ['Females', 'Males', 'Self Described']\n",
    "means = [m_fem, m_mal, m_sd]\n",
    "\n",
    "\n",
    "plt.bar(labels, means)\n",
    "plt.ylabel('Mean Value')\n",
    "plt.title('Comparison of Means')\n",
    "\n",
    "plt.show()"
   ]
  },
  {
   "cell_type": "markdown",
   "id": "8754f49e-abe9-4276-a3fc-58a209af4dbd",
   "metadata": {},
   "source": [
    "### 4. What proportion of movies are rated differently by male and female viewers? <a id='4'></a>"
   ]
  },
  {
   "cell_type": "markdown",
   "id": "f2059b2c-b9db-49ea-a1a6-7765a030f29c",
   "metadata": {},
   "source": [
    "### Solution: Use Mann-Whitney U Test for Every Single Movies\n",
    "- Since we are only comparing two groups, we will use Mann-Whitney for each individual movie\n",
    "- Then we will get the number of movies that are rated differently and divided by 400"
   ]
  },
  {
   "cell_type": "code",
   "execution_count": 137,
   "id": "78e0a335-881b-43f7-8e0b-77759429521b",
   "metadata": {},
   "outputs": [],
   "source": [
    "def mann_whitney(df):\n",
    "    df = df[df.iloc[:,-1].notna()]\n",
    "    female = df[df.iloc[:,0] == 1].iloc[:,1].to_numpy()\n",
    "    male = df[df.iloc[:,0] == 2].iloc[:,1].to_numpy()\n",
    "\n",
    "    u,p = stats.mannwhitneyu(female, male, alternative='two-sided')\n",
    "    if (p < 0.005):\n",
    "        return 1\n",
    "    return 0\n",
    "\n",
    "### \"test_stat_func\" is from above\n",
    "\n",
    "def permutation(df):\n",
    "    df = df[df.iloc[:,-1].notna()]\n",
    "    female = df[df.iloc[:,0] == 1].iloc[:,1].to_numpy()\n",
    "    male = df[df.iloc[:,0] == 2].iloc[:,1].to_numpy()\n",
    "\n",
    "    test_data = (female, male)\n",
    "    p_test = permutation_test(test_data, test_stat_func, n_resamples=int(1e4), random_state=69420)    \n",
    "    if p_test.pvalue < 0.005:\n",
    "        return 1\n",
    "\n",
    "    return 0\n",
    "\n",
    "def ttest_individual(df):\n",
    "    df = df[df.iloc[:,-1].notna()]\n",
    "    female = df[df.iloc[:,0] == 1].iloc[:,1].to_numpy()\n",
    "    male = df[df.iloc[:,0] == 2].iloc[:,1].to_numpy()\n",
    "    \n",
    "    t,p = stats.ttest_ind(female, male)\n",
    "\n",
    "    if p < 0.005:\n",
    "        return 1\n",
    "    return 0\n"
   ]
  },
  {
   "cell_type": "code",
   "execution_count": 115,
   "id": "e1e87365-99da-48c3-a6c5-d57b09b2a730",
   "metadata": {},
   "outputs": [
    {
     "name": "stdout",
     "output_type": "stream",
     "text": [
      "The proportion of P-value < 0.005 derived from two tailed Mann-Whitnet U Test is 0.125\n"
     ]
    }
   ],
   "source": [
    "result_lst = np.array([mann_whitney(pd.concat([gender, movies_ratings.loc[:, i]], axis=1)) for i in all_movies])\n",
    "proportion_whitney = result_lst.sum()/len(all_movies)\n",
    "print(\"The proportion of P-value < 0.005 derived from two tailed Mann-Whitnet U Test is\", proportion_whitney)"
   ]
  },
  {
   "cell_type": "code",
   "execution_count": 116,
   "id": "b9866628-639a-49da-be67-b161be9ea4b9",
   "metadata": {},
   "outputs": [
    {
     "name": "stdout",
     "output_type": "stream",
     "text": [
      "The proportion of P-value < 0.005 derived from permutation test is 0.1125\n"
     ]
    }
   ],
   "source": [
    "result_lst = np.array([permutation(pd.concat([gender, movies_ratings.loc[:, i]], axis=1)) for i in all_movies])\n",
    "proportion_perm = result_lst.sum()/len(all_movies)\n",
    "print(\"The proportion of P-value < 0.005 derived from permutation test is\", proportion_perm)"
   ]
  },
  {
   "cell_type": "code",
   "execution_count": 138,
   "id": "a332de0c-29b3-4bdc-abc3-470e57d81f43",
   "metadata": {},
   "outputs": [
    {
     "name": "stdout",
     "output_type": "stream",
     "text": [
      "The proportion of P-value < 0.005 derived from permutation test is 0.115\n"
     ]
    }
   ],
   "source": [
    "result_lst = np.array([ttest_individual(pd.concat([gender, movies_ratings.loc[:, i]], axis=1)) for i in all_movies])\n",
    "proportion_ttest = result_lst.sum()/len(all_movies)\n",
    "print(\"The proportion of P-value < 0.005 derived from permutation test is\", proportion_ttest)"
   ]
  },
  {
   "cell_type": "markdown",
   "id": "bf5a6a87-39d8-458b-b5a6-9260f59fce7d",
   "metadata": {},
   "source": [
    "### 5. Do people who are only children enjoy ‘The Lion King (1994)’ more than people with siblings? <a id='5'></a>"
   ]
  },
  {
   "cell_type": "markdown",
   "id": "e8627b3c-8202-4add-9280-927ac24f3d38",
   "metadata": {},
   "source": [
    "### Solution: One Tailed Mann-Whitney U Test\n",
    "- Comparing whether the ratings of one group is higher than that of the other group"
   ]
  },
  {
   "cell_type": "code",
   "execution_count": 124,
   "id": "4c68ce50-e583-46ae-95f1-d32253100902",
   "metadata": {},
   "outputs": [
    {
     "data": {
      "text/plain": [
       "['The Lion King (1994)']"
      ]
     },
     "execution_count": 124,
     "metadata": {},
     "output_type": "execute_result"
    }
   ],
   "source": [
    "[i for i in all_movies if i.startswith(\"The Lion\")]"
   ]
  },
  {
   "cell_type": "code",
   "execution_count": 129,
   "id": "dd4acab0-3112-4da0-a07c-b9f75947c60d",
   "metadata": {},
   "outputs": [],
   "source": [
    "lion_king_with_oc_status = pd.concat([only_child, movies_ratings.loc[:, 'The Lion King (1994)']], axis=1)\n",
    "lion_king = lion_king_with_oc_status[lion_king_with_oc_status.iloc[:,-1].notna()]\n",
    "lion_king_only = lion_king[lion_king.iloc[:,0] == 1].iloc[:,1].to_numpy()\n",
    "lion_king_sibling = lion_king[lion_king.iloc[:,0] == 0].iloc[:,1].to_numpy()\n"
   ]
  },
  {
   "cell_type": "code",
   "execution_count": 130,
   "id": "f836ba63-9e9d-455b-8737-eda4c0e254c7",
   "metadata": {},
   "outputs": [
    {
     "data": {
      "text/plain": [
       "0.978419092554931"
      ]
     },
     "execution_count": 130,
     "metadata": {},
     "output_type": "execute_result"
    }
   ],
   "source": [
    "# MWU test\n",
    "u,p = stats.mannwhitneyu(lion_king_only, lion_king_sibling, alternative='greater')\n",
    "p"
   ]
  },
  {
   "cell_type": "markdown",
   "id": "368fcd24-012f-41d3-bb52-ce8d3fc4eb1b",
   "metadata": {},
   "source": [
    "### Alternative Solution: One Tailed T-Test and Divide Resulting P-Value by Half\n"
   ]
  },
  {
   "cell_type": "code",
   "execution_count": 139,
   "id": "390afa5f-693c-4370-b0e2-3d66bb95cf35",
   "metadata": {},
   "outputs": [
    {
     "data": {
      "text/plain": [
       "0.0201335276313413"
      ]
     },
     "execution_count": 139,
     "metadata": {},
     "output_type": "execute_result"
    }
   ],
   "source": [
    "t_stat, p_value = stats.ttest_ind(lion_king_only, lion_king_sibling)\n",
    "p_value = p_value/2"
   ]
  },
  {
   "cell_type": "code",
   "execution_count": 140,
   "id": "33e4b09d-f2df-4184-aa16-6ae0d70bf334",
   "metadata": {},
   "outputs": [
    {
     "data": {
      "text/plain": [
       "-2.053888996058986"
      ]
     },
     "execution_count": 140,
     "metadata": {},
     "output_type": "execute_result"
    }
   ],
   "source": [
    "t_stat"
   ]
  },
  {
   "cell_type": "markdown",
   "id": "fd2b5dc8-e88a-4091-9905-affb1faf8ded",
   "metadata": {},
   "source": [
    "### Given t_stat is negative, we need to get 1 - p_value to get the p_value"
   ]
  },
  {
   "cell_type": "code",
   "execution_count": 141,
   "id": "9058ad2e-c8fe-41a6-8d8d-da9a6287c9b8",
   "metadata": {},
   "outputs": [
    {
     "data": {
      "text/plain": [
       "0.9798664723686586"
      ]
     },
     "execution_count": 141,
     "metadata": {},
     "output_type": "execute_result"
    }
   ],
   "source": [
    "1 - p_value"
   ]
  },
  {
   "cell_type": "markdown",
   "id": "573c972e-2eb6-4034-b4a4-f7074d58e4ae",
   "metadata": {},
   "source": [
    "### Almost the same as Mann-Whitney U Test.\n",
    "### Conclusion, we can't reject the null hypothesis"
   ]
  },
  {
   "cell_type": "markdown",
   "id": "72d8ddf1-5675-47cf-afb9-11280e62a40c",
   "metadata": {},
   "source": [
    "### 6. What proportion of movies exhibit an “only child effect”, i.e. are rated different by viewers with siblings vs. those without? <a id='6'></a>"
   ]
  },
  {
   "cell_type": "markdown",
   "id": "3b1cb440-6760-49f9-bd9f-368ad743aeed",
   "metadata": {},
   "source": [
    "### Solution: Two Tailed Man Whitney U Test, Two Tailed T distribution\n",
    "- Since now we are asking if the movies are rated differently by viewers rather than checking whether if the rating from one group is higher than that of the other group, we will use two tailed test results"
   ]
  },
  {
   "cell_type": "code",
   "execution_count": 146,
   "id": "3ae53c43-ee07-4a58-9b18-6409f9732e1f",
   "metadata": {},
   "outputs": [],
   "source": [
    "def mann_whitney_6(df):\n",
    "    df = df[df.iloc[:,-1].notna()]\n",
    "    only = df[df.iloc[:,0] == 1].iloc[:,1].to_numpy()\n",
    "    sib = df[df.iloc[:,0] == 0].iloc[:,1].to_numpy()\n",
    "\n",
    "    u,p = stats.mannwhitneyu(only, sib, alternative='two-sided')\n",
    "    if (p < 0.005):\n",
    "        return 1\n",
    "    return 0\n",
    "\n",
    "### \"test_stat_func\" is from above\n",
    "\n",
    "def permutation_6(df):\n",
    "    df = df[df.iloc[:,-1].notna()]\n",
    "    only = df[df.iloc[:,0] == 1].iloc[:,1].to_numpy()\n",
    "    sib = df[df.iloc[:,0] == 0].iloc[:,1].to_numpy()\n",
    "\n",
    "    test_data = (only, sib)\n",
    "    p_test = permutation_test(test_data, test_stat_func, n_resamples=int(1e4), random_state=69420)    \n",
    "    if p_test.pvalue < 0.005:\n",
    "        return 1\n",
    "\n",
    "    return 0\n",
    "\n",
    "def ttest_individual_6(df):\n",
    "    df = df[df.iloc[:,-1].notna()]\n",
    "    only = df[df.iloc[:,0] == 1].iloc[:,1].to_numpy()\n",
    "    sib = df[df.iloc[:,0] == 0].iloc[:,1].to_numpy()\n",
    "    \n",
    "    t,p = stats.ttest_ind(only, sib)\n",
    "\n",
    "    if p < 0.005:\n",
    "        return 1\n",
    "    return 0\n"
   ]
  },
  {
   "cell_type": "code",
   "execution_count": 147,
   "id": "7410451b-2156-4969-b4bd-9279e70b5c17",
   "metadata": {},
   "outputs": [
    {
     "name": "stdout",
     "output_type": "stream",
     "text": [
      "The proportion of P-value < 0.005 derived from two tailed Mann-Whitnet U Test is 0.0175\n"
     ]
    }
   ],
   "source": [
    "result_lst = np.array([mann_whitney_6(pd.concat([only_child, movies_ratings.loc[:, i]], axis=1)) for i in all_movies])\n",
    "proportion_whitney = result_lst.sum()/len(all_movies)\n",
    "print(\"The proportion of P-value < 0.005 derived from two tailed Mann-Whitnet U Test is\", proportion_whitney)"
   ]
  },
  {
   "cell_type": "code",
   "execution_count": 148,
   "id": "8cc6ab6c-3bda-4aa9-adbf-d34eab228802",
   "metadata": {},
   "outputs": [
    {
     "name": "stdout",
     "output_type": "stream",
     "text": [
      "The proportion of P-value < 0.005 derived from permutation test is 0.015\n"
     ]
    }
   ],
   "source": [
    "result_lst = np.array([permutation_6(pd.concat([only_child, movies_ratings.loc[:, i]], axis=1)) for i in all_movies])\n",
    "proportion_perm = result_lst.sum()/len(all_movies)\n",
    "print(\"The proportion of P-value < 0.005 derived from permutation test is\", proportion_perm)"
   ]
  },
  {
   "cell_type": "code",
   "execution_count": 149,
   "id": "310af378-5746-4ef0-8851-7d7da2d320c0",
   "metadata": {},
   "outputs": [
    {
     "name": "stdout",
     "output_type": "stream",
     "text": [
      "The proportion of P-value < 0.005 derived from permutation test is 0.025\n"
     ]
    }
   ],
   "source": [
    "result_lst = np.array([ttest_individual_6(pd.concat([only_child, movies_ratings.loc[:, i]], axis=1)) for i in all_movies])\n",
    "proportion_ttest = result_lst.sum()/len(all_movies)\n",
    "print(\"The proportion of P-value < 0.005 derived from permutation test is\", proportion_ttest)"
   ]
  },
  {
   "cell_type": "markdown",
   "id": "24bc1cd9-c7c4-416b-8ee4-d8a3fda4f04d",
   "metadata": {},
   "source": [
    "### 7. Do people who like to watch movies socially enjoy ‘The Wolf of Wall Street (2013)’ more than those who prefer to watch them alone? <a id='7'></a>"
   ]
  },
  {
   "cell_type": "code",
   "execution_count": 150,
   "id": "0e1afcd2-da5c-4fd7-9304-f5a1fbaef75c",
   "metadata": {},
   "outputs": [
    {
     "data": {
      "text/plain": [
       "['The Wolf of Wall Street (2013)']"
      ]
     },
     "execution_count": 150,
     "metadata": {},
     "output_type": "execute_result"
    }
   ],
   "source": [
    "[i for i in all_movies if i.startswith(\"The Wolf\")]"
   ]
  },
  {
   "cell_type": "code",
   "execution_count": 151,
   "id": "303fa390-e242-40ac-899f-7d64a4ec734d",
   "metadata": {},
   "outputs": [],
   "source": [
    "wolf_social_and_alone = pd.concat([alone, movies_ratings.loc[:, 'The Wolf of Wall Street (2013)']], axis=1)\n",
    "wolf = wolf_social_and_alone[wolf_social_and_alone.iloc[:,-1].notna()]\n",
    "wolf_social = wolf[wolf.iloc[:,0] == 1].iloc[:,1].to_numpy()\n",
    "wolf_alone = wolf[wolf.iloc[:,0] == 0].iloc[:,1].to_numpy()\n"
   ]
  },
  {
   "cell_type": "code",
   "execution_count": 153,
   "id": "650f30ad-1986-4ea7-87f3-c704600c4f98",
   "metadata": {},
   "outputs": [
    {
     "data": {
      "text/plain": [
       "0.05638214666114455"
      ]
     },
     "execution_count": 153,
     "metadata": {},
     "output_type": "execute_result"
    }
   ],
   "source": [
    "# MWU test\n",
    "u,p = stats.mannwhitneyu(wolf_social, wolf_alone, alternative='greater')\n",
    "p"
   ]
  },
  {
   "cell_type": "markdown",
   "id": "63596850-e34b-4a2b-a0cb-e6a2e6ecb8e7",
   "metadata": {},
   "source": [
    "### T-Test Indvidual"
   ]
  },
  {
   "cell_type": "code",
   "execution_count": 154,
   "id": "821ea0bd-d17f-4eba-bc2f-22b5dca8aeda",
   "metadata": {},
   "outputs": [
    {
     "data": {
      "text/plain": [
       "0.05869456832832287"
      ]
     },
     "execution_count": 154,
     "metadata": {},
     "output_type": "execute_result"
    }
   ],
   "source": [
    "t_stat, p_value = stats.ttest_ind(wolf_social, wolf_alone)\n",
    "p_value = p_value/2\n",
    "\n",
    "if t_stat < 0:\n",
    "    p_value = 1 - p_value\n",
    "\n",
    "p_value"
   ]
  },
  {
   "cell_type": "code",
   "execution_count": 164,
   "id": "0664a201-25fb-41a3-af95-14c6bff64b8b",
   "metadata": {},
   "outputs": [
    {
     "data": {
      "image/png": "[encoded data removed]",
      "text/plain": [
       "<Figure size 640x480 with 1 Axes>"
      ]
     },
     "metadata": {},
     "output_type": "display_data"
    }
   ],
   "source": [
    "m_social = wolf_social.mean()\n",
    "m_alone = wolf_alone.mean()\n",
    "\n",
    "\n",
    "# Plotting the two means\n",
    "\n",
    "labels = ['Social', 'Alone']\n",
    "means = [m_social,m_alone]\n",
    "\n",
    "\n",
    "plt.bar(labels, means)\n",
    "plt.ylabel('Mean Value')\n",
    "plt.title('Comparison of Means')\n",
    "\n",
    "plt.show()"
   ]
  },
  {
   "cell_type": "markdown",
   "id": "2c094bba-ac9d-4092-a756-091d3755214b",
   "metadata": {},
   "source": [
    "### Nope, too big"
   ]
  },
  {
   "cell_type": "markdown",
   "id": "e35906f6-12a1-4f63-8021-97924da41374",
   "metadata": {},
   "source": [
    "### 8. What proportion of movies exhibit such a “social watching” effect? <a id='8'></a>\n",
    "- Since it mentioned such social waching effect instead of saying if it's different, we will use the same test from previous question, and we are testing whether watching with other people will result in more enjoyment while watching the movies"
   ]
  },
  {
   "cell_type": "code",
   "execution_count": 155,
   "id": "71865167-5038-409f-bec8-bf32ab80e92b",
   "metadata": {},
   "outputs": [],
   "source": [
    "def mann_whitney_8(df):\n",
    "    df = df[df.iloc[:,-1].notna()]\n",
    "    social = df[df.iloc[:,0] == 1].iloc[:,1].to_numpy()\n",
    "    alone = df[df.iloc[:,0] == 0].iloc[:,1].to_numpy()\n",
    "\n",
    "    u,p = stats.mannwhitneyu(social, alone, alternative='greater')\n",
    "    if (p < 0.005):\n",
    "        return 1\n",
    "    return 0\n",
    "\n",
    "### \"test_stat_func\" is from above\n",
    "\n",
    "def ttest_individual_8(df):\n",
    "    df = df[df.iloc[:,-1].notna()]\n",
    "    social = df[df.iloc[:,0] == 1].iloc[:,1].to_numpy()\n",
    "    alone = df[df.iloc[:,0] == 0].iloc[:,1].to_numpy()\n",
    "    \n",
    "    t,p = stats.ttest_ind(social, alone)\n",
    "    p = p/2\n",
    "    if t < 0:\n",
    "        p = 1 - p\n",
    "    \n",
    "    if p < 0.005:\n",
    "        return 1\n",
    "    return 0\n"
   ]
  },
  {
   "cell_type": "code",
   "execution_count": 159,
   "id": "b6737449-931e-47cc-9a97-56d97400476d",
   "metadata": {},
   "outputs": [
    {
     "name": "stdout",
     "output_type": "stream",
     "text": [
      "The proportion of P-value < 0.005 derived from one tailed Mann-Whitnet U Test is 0.0175\n"
     ]
    }
   ],
   "source": [
    "result_lst = np.array([mann_whitney_8(pd.concat([alone, movies_ratings.loc[:, i]], axis=1)) for i in all_movies])\n",
    "proportion_whitney = result_lst.sum()/len(all_movies)\n",
    "print(\"The proportion of P-value < 0.005 derived from one tailed Mann-Whitnet U Test is\", proportion_whitney)"
   ]
  },
  {
   "cell_type": "code",
   "execution_count": 157,
   "id": "528a7bf2-66f0-44ce-b466-f9ccdff2bd79",
   "metadata": {},
   "outputs": [
    {
     "name": "stdout",
     "output_type": "stream",
     "text": [
      "The proportion of P-value < 0.005 derived from permutation test is 0.015\n"
     ]
    }
   ],
   "source": [
    "result_lst = np.array([ttest_individual_8(pd.concat([alone, movies_ratings.loc[:, i]], axis=1)) for i in all_movies])\n",
    "proportion_ttest = result_lst.sum()/len(all_movies)\n",
    "print(\"The proportion of P-value < 0.005 derived from permutation test is\", proportion_ttest)"
   ]
  },
  {
   "cell_type": "markdown",
   "id": "ffd2a5b8-a1dc-45b2-85c9-45f53c4ce049",
   "metadata": {},
   "source": [
    "### 9. Is the ratings distribution of ‘Home Alone (1990)’ different than that of ‘Finding Nemo (2003)’?<a id='9'></a>"
   ]
  },
  {
   "cell_type": "code",
   "execution_count": 167,
   "id": "970b9a5f-6e88-4b5d-911c-0201f126225c",
   "metadata": {},
   "outputs": [
    {
     "data": {
      "text/plain": [
       "['Home Alone (1990)']"
      ]
     },
     "execution_count": 167,
     "metadata": {},
     "output_type": "execute_result"
    }
   ],
   "source": [
    "[i for i in all_movies if i.startswith('Home')]"
   ]
  },
  {
   "cell_type": "code",
   "execution_count": 169,
   "id": "50f960a7-91ae-4572-96ad-0ec72edef4ad",
   "metadata": {},
   "outputs": [
    {
     "data": {
      "text/plain": [
       "6.379397182836346e-10"
      ]
     },
     "execution_count": 169,
     "metadata": {},
     "output_type": "execute_result"
    }
   ],
   "source": [
    "home_alone = movies_ratings.loc[:, 'Home Alone (1990)'].dropna().to_numpy()\n",
    "nemo = movies_ratings.loc[:, 'Finding Nemo (2003)'].dropna().to_numpy()\n",
    "\n",
    "ks, p = stats.ks_2samp(home_alone, nemo)\n",
    "p"
   ]
  },
  {
   "cell_type": "markdown",
   "id": "e7e2f5c6-2e1b-4104-869e-2273410052a8",
   "metadata": {},
   "source": [
    "### Given the P-Value, which is siginificantly lower than 0.005, we should reject the null hypothesis that ....."
   ]
  },
  {
   "cell_type": "code",
   "execution_count": 175,
   "id": "452ae0f5-0b59-4019-921d-6f51a993d263",
   "metadata": {},
   "outputs": [
    {
     "data": {
      "image/png": "[encoded data removed]",
      "text/plain": [
       "<Figure size 640x480 with 1 Axes>"
      ]
     },
     "metadata": {},
     "output_type": "display_data"
    }
   ],
   "source": [
    "_ = plt.hist(home_alone, bins=20)\n",
    "_ = plt.title(\"Home Alone Distribution\")\n",
    "_ = plt.xlabel(\"Movie Ratings\")\n",
    "_ = plt.ylabel(\"Count\")\n",
    "plt.show()"
   ]
  },
  {
   "cell_type": "code",
   "execution_count": 176,
   "id": "05c7b5b5-3e4b-4654-b407-71b6c1d5463e",
   "metadata": {},
   "outputs": [
    {
     "data": {
      "image/png": "[encoded data removed]",
      "text/plain": [
       "<Figure size 640x480 with 1 Axes>"
      ]
     },
     "metadata": {},
     "output_type": "display_data"
    }
   ],
   "source": [
    "_ = plt.hist(nemo, bins=20)\n",
    "_ = plt.title(\"Finding Nemo Distribution\")\n",
    "_ = plt.xlabel(\"Movie Ratings\")\n",
    "_ = plt.ylabel(\"Count\")\n",
    "plt.show()"
   ]
  },
  {
   "cell_type": "markdown",
   "id": "abc50741-640a-4aae-935d-5b8189424837",
   "metadata": {},
   "source": [
    "### 10. There are ratings on movies from several franchises (\\[‘Star Wars’, ‘Harry Potter’, ‘The Matrix’, ‘Indiana Jones’, ‘Jurassic Park’, ‘Pirates of the Caribbean’, ‘Toy Story’, ‘Batman’\\]) in this dataset. How many of these are of inconsistent quality, as experienced by viewers? \\[Hint: You can use the keywords in quotation marks featured in this question to identify the movies that are part of each franchise\\] <a id='10'></a>"
   ]
  },
  {
   "cell_type": "code",
   "execution_count": 193,
   "id": "6180a5b6-f691-4807-96b6-dcea52350c69",
   "metadata": {},
   "outputs": [],
   "source": [
    "### Franchise\n",
    "star_wars = [i for i in all_movies if \"Star Wars\" in i]\n",
    "harry_potter = [i for i in all_movies if \"Harry Potter\" in i]\n",
    "the_matrix = [i for i in all_movies if \"The Matrix\" in i]\n",
    "indiana_jones = [i for i in all_movies if \"Indiana Jones\" in i]\n",
    "jurassic_park = [i for i in all_movies if \"Jurassic Park\" in i]\n",
    "pirates = [i for i in all_movies if \"Pirates of the Caribbean\" in i]\n",
    "toy_story = [i for i in all_movies if \"Toy Story\" in i]\n",
    "batman = [i for i in all_movies if \"Batman\" in i]\n",
    "\n",
    "franchises = [star_wars, harry_potter, the_matrix, indiana_jones, jurassic_park, pirates, toy_story, batman]"
   ]
  },
  {
   "cell_type": "markdown",
   "id": "21a05313-5b65-4906-a2c8-7c91712d5765",
   "metadata": {},
   "source": [
    "### Solution: KW Test\n",
    "- The H0 is that they are of the same distribution, so the ratings are consistent"
   ]
  },
  {
   "cell_type": "markdown",
   "id": "408bf81b-0978-4b29-97ff-aa24aa80e5c8",
   "metadata": {},
   "source": [
    "### Star Wars"
   ]
  },
  {
   "cell_type": "code",
   "execution_count": 213,
   "id": "f4e7d053-5495-494f-906f-d77a47177f86",
   "metadata": {},
   "outputs": [
    {
     "data": {
      "text/plain": [
       "6"
      ]
     },
     "execution_count": 213,
     "metadata": {},
     "output_type": "execute_result"
    }
   ],
   "source": [
    "len(star_wars)"
   ]
  },
  {
   "cell_type": "code",
   "execution_count": 234,
   "id": "5d72aadf-13fc-4037-bf2a-2515b1f3a7f7",
   "metadata": {},
   "outputs": [
    {
     "name": "stdout",
     "output_type": "stream",
     "text": [
      "The P-Value from Kruskal Test for Star Wars is 8.01647736660335e-48\n"
     ]
    }
   ],
   "source": [
    "array0 = movies_ratings.loc[:, star_wars[0]].dropna().to_numpy()\n",
    "array1 = movies_ratings.loc[:, star_wars[1]].dropna().to_numpy()\n",
    "array2 = movies_ratings.loc[:, star_wars[2]].dropna().to_numpy()\n",
    "array3 = movies_ratings.loc[:, star_wars[3]].dropna().to_numpy()\n",
    "array4 = movies_ratings.loc[:, star_wars[4]].dropna().to_numpy()\n",
    "array5 = movies_ratings.loc[:, star_wars[5]].dropna().to_numpy()\n",
    "\n",
    "h,p_starwars = stats.kruskal(array0, array1, array2, array3, array4, array5)\n",
    "print(\"The P-Value from Kruskal Test for Star Wars is\", p_starwars)"
   ]
  },
  {
   "cell_type": "markdown",
   "id": "78e505c7-0fbb-4b66-a80f-627ede581948",
   "metadata": {},
   "source": [
    "### Harry Potter"
   ]
  },
  {
   "cell_type": "code",
   "execution_count": 215,
   "id": "0d8b4d97-7fb4-46d5-8a82-2862486736de",
   "metadata": {},
   "outputs": [
    {
     "data": {
      "text/plain": [
       "4"
      ]
     },
     "execution_count": 215,
     "metadata": {},
     "output_type": "execute_result"
    }
   ],
   "source": [
    "len(harry_potter)"
   ]
  },
  {
   "cell_type": "code",
   "execution_count": 216,
   "id": "8ed1d4fa-75e8-4f01-84bd-8f1ac665df70",
   "metadata": {},
   "outputs": [
    {
     "name": "stdout",
     "output_type": "stream",
     "text": [
      "The P-Value from Kruskal Test for Harry Potter is 0.34331950837289205\n"
     ]
    }
   ],
   "source": [
    "array0 = movies_ratings.loc[:, harry_potter[0]].dropna().to_numpy()\n",
    "array1 = movies_ratings.loc[:, harry_potter[1]].dropna().to_numpy()\n",
    "array2 = movies_ratings.loc[:, harry_potter[2]].dropna().to_numpy()\n",
    "array3 = movies_ratings.loc[:, harry_potter[3]].dropna().to_numpy()\n",
    "\n",
    "\n",
    "h,p_harry = stats.kruskal(array0, array1, array2, array3)\n",
    "print(\"The P-Value from Kruskal Test for Harry Potter is\", p_harry)"
   ]
  },
  {
   "cell_type": "markdown",
   "id": "e2519887-a3d5-45df-a546-39e31d2e5ab1",
   "metadata": {},
   "source": [
    "### The Matrix"
   ]
  },
  {
   "cell_type": "code",
   "execution_count": 217,
   "id": "49020593-8c16-444c-aaab-06ceff6d8583",
   "metadata": {},
   "outputs": [
    {
     "data": {
      "text/plain": [
       "3"
      ]
     },
     "execution_count": 217,
     "metadata": {},
     "output_type": "execute_result"
    }
   ],
   "source": [
    "len(the_matrix)"
   ]
  },
  {
   "cell_type": "code",
   "execution_count": 218,
   "id": "9f55cd62-ca4b-4595-a205-0328d7ace38e",
   "metadata": {},
   "outputs": [
    {
     "name": "stdout",
     "output_type": "stream",
     "text": [
      "The P-Value from Kruskal Test for the Matrix is 3.1236517880781424e-11\n"
     ]
    }
   ],
   "source": [
    "array0 = movies_ratings.loc[:, the_matrix[0]].dropna().to_numpy()\n",
    "array1 = movies_ratings.loc[:, the_matrix[1]].dropna().to_numpy()\n",
    "array2 = movies_ratings.loc[:, the_matrix[2]].dropna().to_numpy()\n",
    "\n",
    "h,p_matrix = stats.kruskal(array0, array1, array2)\n",
    "print(\"The P-Value from Kruskal Test for the Matrix is\", p_matrix)"
   ]
  },
  {
   "cell_type": "markdown",
   "id": "e464555b-e634-4c2e-b198-b1b56eb2a1e4",
   "metadata": {},
   "source": [
    "### Indiana Jones"
   ]
  },
  {
   "cell_type": "code",
   "execution_count": 219,
   "id": "20135ec3-ae4b-4230-bce0-5a85b00d25a4",
   "metadata": {},
   "outputs": [
    {
     "data": {
      "text/plain": [
       "4"
      ]
     },
     "execution_count": 219,
     "metadata": {},
     "output_type": "execute_result"
    }
   ],
   "source": [
    "len(indiana_jones)"
   ]
  },
  {
   "cell_type": "code",
   "execution_count": 223,
   "id": "89c37145-f205-4a3d-b622-9ad0b6ebefd0",
   "metadata": {},
   "outputs": [
    {
     "name": "stdout",
     "output_type": "stream",
     "text": [
      "The P-Value from Kruskal Test for Indiana Jones is 6.27277563979608e-10\n"
     ]
    }
   ],
   "source": [
    "array0 = movies_ratings.loc[:, indiana_jones[0]].dropna().to_numpy()\n",
    "array1 = movies_ratings.loc[:, indiana_jones[1]].dropna().to_numpy()\n",
    "array2 = movies_ratings.loc[:, indiana_jones[2]].dropna().to_numpy()\n",
    "array3 = movies_ratings.loc[:, indiana_jones[3]].dropna().to_numpy()\n",
    "\n",
    "h,p_indiana_jones = stats.kruskal(array0, array1, array2, array3)\n",
    "print(\"The P-Value from Kruskal Test for Indiana Jones is\", p_indiana_jones)"
   ]
  },
  {
   "cell_type": "markdown",
   "id": "b6114d10-0c47-45be-894a-5438d4073b31",
   "metadata": {},
   "source": [
    "### Jurassic Park"
   ]
  },
  {
   "cell_type": "code",
   "execution_count": 224,
   "id": "2fd50683-df67-4f95-a97f-696f9a761e11",
   "metadata": {},
   "outputs": [
    {
     "data": {
      "text/plain": [
       "3"
      ]
     },
     "execution_count": 224,
     "metadata": {},
     "output_type": "execute_result"
    }
   ],
   "source": [
    "len(jurassic_park)"
   ]
  },
  {
   "cell_type": "code",
   "execution_count": 225,
   "id": "d7aeaf41-4437-478c-b36d-f309e1889be4",
   "metadata": {},
   "outputs": [
    {
     "name": "stdout",
     "output_type": "stream",
     "text": [
      "The P-Value from Kruskal Test for Jurassic Park is 7.636930084362221e-11\n"
     ]
    }
   ],
   "source": [
    "array0 = movies_ratings.loc[:, jurassic_park[0]].dropna().to_numpy()\n",
    "array1 = movies_ratings.loc[:, jurassic_park[1]].dropna().to_numpy()\n",
    "array2 = movies_ratings.loc[:, jurassic_park[2]].dropna().to_numpy()\n",
    "\n",
    "\n",
    "h,p_jurassic_park = stats.kruskal(array0, array1, array2)\n",
    "print(\"The P-Value from Kruskal Test for Jurassic Park is\", p_jurassic_park)"
   ]
  },
  {
   "cell_type": "markdown",
   "id": "17287670-0d90-4b19-9696-d73372552d45",
   "metadata": {},
   "source": [
    "### Pirates of the Caribbean"
   ]
  },
  {
   "cell_type": "code",
   "execution_count": 226,
   "id": "b999bcc8-0d1e-42ad-a50f-3358a532f93d",
   "metadata": {},
   "outputs": [
    {
     "data": {
      "text/plain": [
       "3"
      ]
     },
     "execution_count": 226,
     "metadata": {},
     "output_type": "execute_result"
    }
   ],
   "source": [
    "len(pirates)"
   ]
  },
  {
   "cell_type": "code",
   "execution_count": 227,
   "id": "2002c887-3dca-4432-b944-bbf257705684",
   "metadata": {},
   "outputs": [
    {
     "name": "stdout",
     "output_type": "stream",
     "text": [
      "The P-Value from Kruskal Test for Pirates of the Caribben is 8.01647736660335e-48\n"
     ]
    }
   ],
   "source": [
    "array0 = movies_ratings.loc[:, pirates[0]].dropna().to_numpy()\n",
    "array1 = movies_ratings.loc[:, pirates[1]].dropna().to_numpy()\n",
    "array2 = movies_ratings.loc[:, pirates[2]].dropna().to_numpy()\n",
    "\n",
    "h,p_pirates = stats.kruskal(array0, array1, array2)\n",
    "print(\"The P-Value from Kruskal Test for Pirates of the Caribben is\", p_starwars)"
   ]
  },
  {
   "cell_type": "markdown",
   "id": "d6634d14-0e09-46e4-bfca-ebb183c47b92",
   "metadata": {},
   "source": [
    "### Toy Story"
   ]
  },
  {
   "cell_type": "code",
   "execution_count": 228,
   "id": "f458121d-229f-4a3f-be43-2c8dd514bf10",
   "metadata": {},
   "outputs": [
    {
     "data": {
      "text/plain": [
       "3"
      ]
     },
     "execution_count": 228,
     "metadata": {},
     "output_type": "execute_result"
    }
   ],
   "source": [
    "len(toy_story)"
   ]
  },
  {
   "cell_type": "code",
   "execution_count": 229,
   "id": "8747f9ad-c913-4b53-a107-7a49dc1c247f",
   "metadata": {},
   "outputs": [
    {
     "name": "stdout",
     "output_type": "stream",
     "text": [
      "The P-Value from Kruskal Test for Toy Story is 5.065805156537524e-06\n"
     ]
    }
   ],
   "source": [
    "array0 = movies_ratings.loc[:, toy_story[0]].dropna().to_numpy()\n",
    "array1 = movies_ratings.loc[:, toy_story[1]].dropna().to_numpy()\n",
    "array2 = movies_ratings.loc[:, toy_story[2]].dropna().to_numpy()\n",
    "\n",
    "h,p_toy_story = stats.kruskal(array0, array1, array2)\n",
    "print(\"The P-Value from Kruskal Test for Toy Story is\", p_toy_story)"
   ]
  },
  {
   "cell_type": "markdown",
   "id": "118a40dd-d371-40e8-8e30-2ad3d04ea37a",
   "metadata": {},
   "source": [
    "### Batman"
   ]
  },
  {
   "cell_type": "code",
   "execution_count": 230,
   "id": "5133e506-3f66-4230-a212-f584e718ee4c",
   "metadata": {},
   "outputs": [
    {
     "data": {
      "text/plain": [
       "3"
      ]
     },
     "execution_count": 230,
     "metadata": {},
     "output_type": "execute_result"
    }
   ],
   "source": [
    "len(batman)"
   ]
  },
  {
   "cell_type": "code",
   "execution_count": 233,
   "id": "94ff530a-e76a-4a51-bb46-18d2d97521f0",
   "metadata": {},
   "outputs": [
    {
     "name": "stdout",
     "output_type": "stream",
     "text": [
      "The P-Value from Kruskal Test for Batman is 4.2252969509030006e-42\n"
     ]
    }
   ],
   "source": [
    "array0 = movies_ratings.loc[:, batman[0]].dropna().to_numpy()\n",
    "array1 = movies_ratings.loc[:, batman[1]].dropna().to_numpy()\n",
    "array2 = movies_ratings.loc[:, batman[2]].dropna().to_numpy()\n",
    "\n",
    "h,p_batman = stats.kruskal(array0, array1, array2)\n",
    "print(\"The P-Value from Kruskal Test for Batman is\", p_batman)"
   ]
  },
  {
   "cell_type": "markdown",
   "id": "326939d3-4c9b-4af7-b03d-229b5f816c22",
   "metadata": {},
   "source": [
    "### The Proportion of Inconsistent Movie Franchises"
   ]
  },
  {
   "cell_type": "code",
   "execution_count": 239,
   "id": "0d961cd9-f00b-47d4-9c7e-cbd4b825c5bb",
   "metadata": {},
   "outputs": [
    {
     "data": {
      "text/plain": [
       "0.875"
      ]
     },
     "execution_count": 239,
     "metadata": {},
     "output_type": "execute_result"
    }
   ],
   "source": [
    "np.array(np.array([p_starwars, p_harry, p_matrix, p_indiana_jones, p_jurassic_park, p_pirates, p_toy_story, p_batman]) < 0.005).sum()/8"
   ]
  },
  {
   "cell_type": "markdown",
   "id": "093189c3-c643-4e59-9519-e7c1b64b4435",
   "metadata": {},
   "source": [
    "### Alternative Solution: One Way ANOVA"
   ]
  },
  {
   "cell_type": "markdown",
   "id": "1f73bc2f-f950-4ac2-ad49-63ed4532ae1d",
   "metadata": {},
   "source": [
    "### Star Wars"
   ]
  },
  {
   "cell_type": "code",
   "execution_count": 243,
   "id": "bc319212-2f37-4942-b462-7706276ad81f",
   "metadata": {},
   "outputs": [
    {
     "name": "stdout",
     "output_type": "stream",
     "text": [
      "The P-Value from ANOVA for Star Wars is 1.5252665421920376e-45\n"
     ]
    }
   ],
   "source": [
    "array0 = movies_ratings.loc[:, star_wars[0]].dropna().to_numpy()\n",
    "array1 = movies_ratings.loc[:, star_wars[1]].dropna().to_numpy()\n",
    "array2 = movies_ratings.loc[:, star_wars[2]].dropna().to_numpy()\n",
    "array3 = movies_ratings.loc[:, star_wars[3]].dropna().to_numpy()\n",
    "array4 = movies_ratings.loc[:, star_wars[4]].dropna().to_numpy()\n",
    "array5 = movies_ratings.loc[:, star_wars[5]].dropna().to_numpy()\n",
    "\n",
    "h,p_anova_starwars = stats.f_oneway(array0, array1, array2, array3, array4, array5)\n",
    "print(\"The P-Value from ANOVA for Star Wars is\", p_anova_starwars)"
   ]
  },
  {
   "cell_type": "markdown",
   "id": "45850db3-bd09-4c07-bb4c-0c8474a8275b",
   "metadata": {},
   "source": [
    "### Harry Potter"
   ]
  },
  {
   "cell_type": "code",
   "execution_count": 244,
   "id": "3e5bfe0d-d8b4-4ef0-9379-5a40c288b82e",
   "metadata": {},
   "outputs": [
    {
     "name": "stdout",
     "output_type": "stream",
     "text": [
      "The P-Value from Kruskal Test for Harry Potter is 0.5089850679527991\n"
     ]
    }
   ],
   "source": [
    "array0 = movies_ratings.loc[:, harry_potter[0]].dropna().to_numpy()\n",
    "array1 = movies_ratings.loc[:, harry_potter[1]].dropna().to_numpy()\n",
    "array2 = movies_ratings.loc[:, harry_potter[2]].dropna().to_numpy()\n",
    "array3 = movies_ratings.loc[:, harry_potter[3]].dropna().to_numpy()\n",
    "\n",
    "h,p_anova_harry = stats.f_oneway(array0, array1, array2, array3)\n",
    "print(\"The P-Value from ANOVA Test for Harry Potter is\", p_anova_harry)"
   ]
  },
  {
   "cell_type": "markdown",
   "id": "97a4b45f-43f4-47f7-98a8-5f4a9c1c8324",
   "metadata": {},
   "source": [
    "### The Matrix"
   ]
  },
  {
   "cell_type": "code",
   "execution_count": 245,
   "id": "925be2fc-5047-4cd4-a672-acd243bbadd0",
   "metadata": {},
   "outputs": [
    {
     "name": "stdout",
     "output_type": "stream",
     "text": [
      "The P-Value from ANOVA Test for the Matrix is 2.1374604702645577e-11\n"
     ]
    }
   ],
   "source": [
    "array0 = movies_ratings.loc[:, the_matrix[0]].dropna().to_numpy()\n",
    "array1 = movies_ratings.loc[:, the_matrix[1]].dropna().to_numpy()\n",
    "array2 = movies_ratings.loc[:, the_matrix[2]].dropna().to_numpy()\n",
    "\n",
    "h,p_anova_matrix = stats.f_oneway(array0, array1, array2)\n",
    "print(\"The P-Value from ANOVA Test for the Matrix is\", p_anova_matrix)"
   ]
  },
  {
   "cell_type": "markdown",
   "id": "b570aa67-e398-41b8-9cbb-3e493e0cf643",
   "metadata": {},
   "source": [
    "### Indiana Jones"
   ]
  },
  {
   "cell_type": "code",
   "execution_count": 246,
   "id": "3e0c91ff-f103-4220-a780-687dc23bae28",
   "metadata": {},
   "outputs": [
    {
     "name": "stdout",
     "output_type": "stream",
     "text": [
      "The P-Value from ANOVA Test for Indiana Jones is 2.2613291345737005e-09\n"
     ]
    }
   ],
   "source": [
    "array0 = movies_ratings.loc[:, indiana_jones[0]].dropna().to_numpy()\n",
    "array1 = movies_ratings.loc[:, indiana_jones[1]].dropna().to_numpy()\n",
    "array2 = movies_ratings.loc[:, indiana_jones[2]].dropna().to_numpy()\n",
    "array3 = movies_ratings.loc[:, indiana_jones[3]].dropna().to_numpy()\n",
    "\n",
    "h,p_anova_indiana_jones = stats.f_oneway(array0, array1, array2, array3)\n",
    "print(\"The P-Value from ANOVA Test for Indiana Jones is\", p_anova_indiana_jones)"
   ]
  },
  {
   "cell_type": "markdown",
   "id": "429b94ab-02ce-457d-a1e4-6b33306915ce",
   "metadata": {},
   "source": [
    "### Jurassic Park"
   ]
  },
  {
   "cell_type": "code",
   "execution_count": 247,
   "id": "b956a963-f28c-4bac-8a17-5f61b7729702",
   "metadata": {},
   "outputs": [
    {
     "name": "stdout",
     "output_type": "stream",
     "text": [
      "The P-Value from ANOVA Test for Jurassic Park is 1.8386566379299737e-10\n"
     ]
    }
   ],
   "source": [
    "array0 = movies_ratings.loc[:, jurassic_park[0]].dropna().to_numpy()\n",
    "array1 = movies_ratings.loc[:, jurassic_park[1]].dropna().to_numpy()\n",
    "array2 = movies_ratings.loc[:, jurassic_park[2]].dropna().to_numpy()\n",
    "\n",
    "\n",
    "h,p_anova_jurassic_park = stats.f_oneway(array0, array1, array2)\n",
    "print(\"The P-Value from ANOVA Test for Jurassic Park is\", p_anova_jurassic_park)"
   ]
  },
  {
   "cell_type": "markdown",
   "id": "e10fd227-05ce-42fd-9a99-6f3d461673d9",
   "metadata": {},
   "source": [
    "### Pirates of the Caribbean"
   ]
  },
  {
   "cell_type": "code",
   "execution_count": 248,
   "id": "f17526f6-9016-405a-a556-a0abe7bc8fa2",
   "metadata": {},
   "outputs": [
    {
     "name": "stdout",
     "output_type": "stream",
     "text": [
      "The P-Value from ANOVA Test for Pirates of the Caribben is 1.5252665421920376e-45\n"
     ]
    }
   ],
   "source": [
    "array0 = movies_ratings.loc[:, pirates[0]].dropna().to_numpy()\n",
    "array1 = movies_ratings.loc[:, pirates[1]].dropna().to_numpy()\n",
    "array2 = movies_ratings.loc[:, pirates[2]].dropna().to_numpy()\n",
    "\n",
    "h,p_anova_pirates = stats.f_oneway(array0, array1, array2)\n",
    "print(\"The P-Value from ANOVA Test for Pirates of the Caribben is\", p_anova_starwars)"
   ]
  },
  {
   "cell_type": "markdown",
   "id": "653fc05e-4e28-48c5-8919-00462b4467ab",
   "metadata": {},
   "source": [
    "### Toy Story"
   ]
  },
  {
   "cell_type": "code",
   "execution_count": 249,
   "id": "cb161737-ff50-4924-9f54-216a3d494640",
   "metadata": {},
   "outputs": [
    {
     "name": "stdout",
     "output_type": "stream",
     "text": [
      "The P-Value from ANOVA Test for Toy Story is 0.0004763856415114884\n"
     ]
    }
   ],
   "source": [
    "array0 = movies_ratings.loc[:, toy_story[0]].dropna().to_numpy()\n",
    "array1 = movies_ratings.loc[:, toy_story[1]].dropna().to_numpy()\n",
    "array2 = movies_ratings.loc[:, toy_story[2]].dropna().to_numpy()\n",
    "\n",
    "h,p_anova_toy_story = stats.f_oneway(array0, array1, array2)\n",
    "print(\"The P-Value from ANOVA Test for Toy Story is\", p_anova_toy_story)"
   ]
  },
  {
   "cell_type": "markdown",
   "id": "8a5d1af7-5f7e-4998-9efe-a0ea51c06300",
   "metadata": {},
   "source": [
    "### Batman"
   ]
  },
  {
   "cell_type": "code",
   "execution_count": 250,
   "id": "4009a7ca-fe29-49c1-8bf3-0a438a99ac31",
   "metadata": {},
   "outputs": [
    {
     "name": "stdout",
     "output_type": "stream",
     "text": [
      "The P-Value from ANOVA Test for Batman is 1.538339512760035e-44\n"
     ]
    }
   ],
   "source": [
    "array0 = movies_ratings.loc[:, batman[0]].dropna().to_numpy()\n",
    "array1 = movies_ratings.loc[:, batman[1]].dropna().to_numpy()\n",
    "array2 = movies_ratings.loc[:, batman[2]].dropna().to_numpy()\n",
    "\n",
    "h,p_anova_batman = stats.f_oneway(array0, array1, array2)\n",
    "print(\"The P-Value from ANOVA Test for Batman is\", p_anova_batman)"
   ]
  },
  {
   "cell_type": "markdown",
   "id": "c1e44059-afd1-48f4-9cde-385a69a3686c",
   "metadata": {},
   "source": [
    "### Proportion"
   ]
  },
  {
   "cell_type": "code",
   "execution_count": 251,
   "id": "65c91864-c066-437a-953e-b9af273c444e",
   "metadata": {},
   "outputs": [
    {
     "data": {
      "text/plain": [
       "0.875"
      ]
     },
     "execution_count": 251,
     "metadata": {},
     "output_type": "execute_result"
    }
   ],
   "source": [
    "np.array(np.array([p_anova_starwars, p_anova_harry, p_anova_matrix, p_anova_indiana_jones, p_anova_jurassic_park, p_anova_pirates, p_anova_toy_story, p_anova_batman]) < 0.005).sum()/8"
   ]
  },
  {
   "cell_type": "markdown",
   "id": "dd8eb91f-29b3-42d0-9bf7-ea6a86cbc0e0",
   "metadata": {},
   "source": [
    "### Extra <a id='11'></a>\n",
    "- We will use trait \"is outgoing/sociable\" to test effect on the movie \"Clueless\"\n",
    "- The question we are trying to figure out is whether more outgoing people will give a higher rating to the movie \"Clueless\"\n",
    "- We will split the two groups based on their scores for column \"is outgoing/sociable\" or not and anything below 3 is in group \"less outgoing\" and above 3 is in group \"more outgoing\"."
   ]
  },
  {
   "cell_type": "code",
   "execution_count": 269,
   "id": "9ce3770b-37e8-4771-a4d8-e9984fee51f7",
   "metadata": {},
   "outputs": [
    {
     "data": {
      "text/plain": [
       "0.013024317406349685"
      ]
     },
     "execution_count": 269,
     "metadata": {},
     "output_type": "execute_result"
    }
   ],
   "source": [
    "clueless_social = pd.concat([personality.loc[:, 'is outgoing/sociable'], movies_ratings.loc[:, 'Clueless (1995)']], axis=1)\n",
    "clueless = clueless_social[clueless_social.iloc[:,-1].notna()]\n",
    "\n",
    "clueless_1 = clueless[clueless.iloc[:,0] == 1].iloc[:,1].to_numpy()\n",
    "clueless_2 = clueless[clueless.iloc[:,0] == 2].iloc[:,1].to_numpy()\n",
    "less_outgoing = np.concatenate((clueless_1, clueless_2))\n",
    "\n",
    "clueless_4 = clueless[clueless.iloc[:,0] == 4].iloc[:,1].to_numpy()\n",
    "clueless_5 = clueless[clueless.iloc[:,0] == 5].iloc[:,1].to_numpy()\n",
    "outgoing = np.concatenate((clueless_4, clueless_5))\n",
    "\n",
    "# MWU test\n",
    "u,p = stats.mannwhitneyu(outgoing, less_outgoing, alternative='greater')\n",
    "p"
   ]
  },
  {
   "cell_type": "markdown",
   "id": "873167d6-add3-4a26-9eff-8a5e382a9bf1",
   "metadata": {},
   "source": [
    "### Alternative Solution: Independent T-Test"
   ]
  },
  {
   "cell_type": "code",
   "execution_count": 270,
   "id": "4516bbdc-cc63-48c8-bc8c-431d2c7f908c",
   "metadata": {},
   "outputs": [
    {
     "data": {
      "text/plain": [
       "0.0167064548702785"
      ]
     },
     "execution_count": 270,
     "metadata": {},
     "output_type": "execute_result"
    }
   ],
   "source": [
    "t_stat, p_value = stats.ttest_ind(outgoing, less_outgoing)\n",
    "p_value = p_value/2\n",
    "\n",
    "if t_stat < 0:\n",
    "    p_value = 1 - p_value\n",
    "\n",
    "p_value"
   ]
  },
  {
   "cell_type": "markdown",
   "id": "c7accdee-7675-4382-9146-c55cb3a57899",
   "metadata": {},
   "source": [
    "### Conclusion: Although the p-value is low, it is not lower than the specified alpha we have, which is 0.005. Thus, we cannot reject the null-hypothesis."
   ]
  },
  {
   "cell_type": "code",
   "execution_count": null,
   "id": "bbc69a24-86fd-4578-be26-036daf4856a0",
   "metadata": {},
   "outputs": [],
   "source": []
  }
 ],
 "metadata": {
  "kernelspec": {
   "display_name": "Python 3 (ipykernel)",
   "language": "python",
   "name": "python3"
  },
  "language_info": {
   "codemirror_mode": {
    "name": "ipython",
    "version": 3
   },
   "file_extension": ".py",
   "mimetype": "text/x-python",
   "name": "python",
   "nbconvert_exporter": "python",
   "pygments_lexer": "ipython3",
   "version": "3.11.4"
  }
 },
 "nbformat": 4,
 "nbformat_minor": 5
}
